{
 "cells": [
  {
   "cell_type": "code",
   "execution_count": 1,
   "metadata": {},
   "outputs": [
    {
     "name": "stdout",
     "output_type": "stream",
     "text": [
      "標題：台灣彩券www.taiwanlottery.com.tw\n",
      "網址：/url?q=https://www.taiwanlottery.com.tw/&sa=U&ved=2ahUKEwilnYHqlcXsAhUkzIsBHWVdASYQFjAAegQIBhAB&usg=AOvVaw147AA8TOxeRRwEMzUKYy4N\n",
      "標題：台彩| 搜尋標籤| 聯合新聞網udn.com › search › tagging › 台彩\n",
      "網址：/url?q=https://udn.com/search/tagging/2/%25E5%258F%25B0%25E5%25BD%25A9&sa=U&ved=2ahUKEwilnYHqlcXsAhUkzIsBHWVdASYQFjAMegQIBRAB&usg=AOvVaw1WvBKJJHAtvR4UBpqhdpmC\n",
      "標題：民眾中5.7億控訴台彩不認帳－民視新聞- YouTubewww.youtube.com › watch\n",
      "網址：/url?q=https://www.youtube.com/watch%3Fv%3D1HTMiVEsUNE&sa=U&ved=2ahUKEwilnYHqlcXsAhUkzIsBHWVdASYQtwIwEXoECAIQAQ&usg=AOvVaw0-3qBZGNj-nvQlwJjoH8PY\n",
      "標題：\n",
      "網址：/url?q=https://www.youtube.com/watch%3Fv%3D1HTMiVEsUNE&sa=U&ved=2ahUKEwilnYHqlcXsAhUkzIsBHWVdASYQuAIwEXoECAIQAg&usg=AOvVaw24YN2h0mwnHqBKqkNpLBK1\n",
      "標題：台灣彩券 - 自由時報news.ltn.com.tw › topic › 台灣彩券\n",
      "網址：/url?q=https://news.ltn.com.tw/topic/%25E5%258F%25B0%25E7%2581%25A3%25E5%25BD%25A9%25E5%2588%25B8&sa=U&ved=2ahUKEwilnYHqlcXsAhUkzIsBHWVdASYQFjASegQIARAB&usg=AOvVaw0FR1fWrKBLDQfFCPRNX0Pn\n",
      "標題：台灣彩券- 维基百科，自由的百科全书zh.wikipedia.org › zh-tw › 台灣彩券\n",
      "網址：/url?q=https://zh.wikipedia.org/zh-tw/%25E5%258F%25B0%25E7%2581%25A3%25E5%25BD%25A9%25E5%2588%25B8&sa=U&ved=2ahUKEwilnYHqlcXsAhUkzIsBHWVdASYQFjATegQIABAB&usg=AOvVaw3qAPi-SAqf9IlHfb9qsVWk\n",
      "標題：台彩大樂透中秋加倍送！桃園市首張200萬開在這間| 桃園電子報-在地 ...tyenews.com › 2020/09\n",
      "網址：/url?q=https://tyenews.com/2020/09/84894/&sa=U&ved=2ahUKEwilnYHqlcXsAhUkzIsBHWVdASYQFjAUegQIBxAB&usg=AOvVaw29A5oV0498OLrFFxXNPs5P\n"
     ]
    }
   ],
   "source": [
    "# Google搜尋\n",
    "import requests\n",
    "from bs4 import BeautifulSoup\n",
    "\n",
    "# Google 搜尋 URL\n",
    "google_url = 'https://www.google.com.tw/search'\n",
    "\n",
    "# 查詢參數\n",
    "my_params = {'q': '台彩'}\n",
    "\n",
    "# 下載 Google 搜尋結果\n",
    "r = requests.get(google_url, params = my_params)\n",
    "\n",
    "# 確認是否下載成功\n",
    "if r.status_code == requests.codes.ok:\n",
    "  # 以 BeautifulSoup 解析 HTML 原始碼\n",
    "  soup = BeautifulSoup(r.text, 'html.parser')\n",
    "\n",
    "  # 觀察 HTML 原始碼\n",
    "  #print(soup.prettify())\n",
    "\n",
    "  # 以 CSS 的選擇器來抓取 Google 的搜尋結果\n",
    "  items = soup.select('div.kCrYT > a[href^=\"/url\"]')\n",
    " \n",
    "  for i in items:\n",
    "    # 標題\n",
    "    print(\"標題：\" + i.text)\n",
    "    # 網址\n",
    "    print(\"網址：\" + i.get('href'))"
   ]
  },
  {
   "cell_type": "code",
   "execution_count": null,
   "metadata": {},
   "outputs": [],
   "source": []
  }
 ],
 "metadata": {
  "kernelspec": {
   "display_name": "Python 3",
   "language": "python",
   "name": "python3"
  },
  "language_info": {
   "codemirror_mode": {
    "name": "ipython",
    "version": 3
   },
   "file_extension": ".py",
   "mimetype": "text/x-python",
   "name": "python",
   "nbconvert_exporter": "python",
   "pygments_lexer": "ipython3",
   "version": "3.8.3"
  }
 },
 "nbformat": 4,
 "nbformat_minor": 4
}
