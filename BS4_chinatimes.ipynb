{
 "cells": [
  {
   "cell_type": "code",
   "execution_count": 28,
   "metadata": {},
   "outputs": [
    {
     "name": "stdout",
     "output_type": "stream",
     "text": [
      "馬英九台北市長政績如何？資料一攤開酸民全傻了 - 政治\n",
      "網址: https://www.chinatimes.com/realtimenews/20201014001824-260407?ctrack=mo_main_hot_p01\n",
      "\n",
      "罷韓後高雄變冷清？他「1張空拍圖」曝現況 網大驚 - 政治\n",
      "網址: https://www.chinatimes.com/realtimenews/20201013005450-260407?ctrack=mo_main_hot_p02\n",
      "\n",
      "林子祥73歲近況曝光 生日同框愛妻葉蒨文「竟像父女」 - 娛樂\n",
      "網址: https://www.chinatimes.com/realtimenews/20201013003240-260404?ctrack=mo_main_hot_p03\n",
      "\n",
      "韓國瑜手上握有「最強血滴子」？軍校校友會理事長不藏了 - 政治\n",
      "網址: https://www.chinatimes.com/realtimenews/20201014002371-260407?ctrack=mo_main_hot_p04\n",
      "\n",
      "得知韓國瑜確定被罷免 李四川立刻做了這件事 - 政治\n",
      "網址: https://www.chinatimes.com/realtimenews/20201014001381-260407?ctrack=mo_main_hot_p05\n",
      "\n",
      "韓國瑜留下爛攤子？黃捷要高雄對「這55位孩子」負責 - 政治\n",
      "網址: https://www.chinatimes.com/realtimenews/20201014001466-260407?ctrack=mo_main_hot_p06\n",
      "\n",
      "iPhone 12系列不送充電器及耳機 充電線也改換一新 - 科技 - 科技\n",
      "網址: https://www.chinatimes.com/realtimenews/20201014000915-260412?ctrack=mo_main_hot_p07\n",
      "\n",
      "范冰冰舊愛爆帶混血女友上婦產科 去年認愛放話「會做好男人」\n",
      "網址: https://www.chinatimes.com/realtimenews/20201014004121-260404?ctrack=mo_main_rtime_p01\n",
      "\n",
      "桃園航空城11／9正式公告徵收禁移轉\n",
      "網址: https://www.chinatimes.com/realtimenews/20201014004107-260405?ctrack=mo_main_rtime_p02\n",
      "\n",
      "汽機車產業鏈力挺AMPA 21日起線上線下同搶復甦商機\n",
      "網址: https://www.chinatimes.com/realtimenews/20201014004063-260410?ctrack=mo_main_rtime_p03\n",
      "\n",
      "高鐵會員TGo「點數365」平台 加碼限時優惠\n",
      "網址: https://www.chinatimes.com/realtimenews/20201014004059-260405?ctrack=mo_main_rtime_p04\n",
      "\n",
      "豆漿有焦味才純正？知情人士點破真相：偷工產物\n",
      "網址: https://www.chinatimes.com/realtimenews/20201014004039-260405?ctrack=mo_main_rtime_p05\n",
      "\n",
      "IDC：iPhone 12預估可提升蘋果在大陸市佔率\n",
      "網址: https://www.chinatimes.com/realtimenews/20201014004058-260410?ctrack=mo_main_rtime_p06\n",
      "\n",
      "低油價以及低融資成本 為亞洲企業帶來正向支撐\n",
      "網址: https://www.chinatimes.com/realtimenews/20201014004061-260410?ctrack=mo_main_rtime_p07\n",
      "\n",
      "獨／囂張！「路霸水果攤」佔斑馬線網全怒 北投分局回應了\n",
      "網址: https://www.chinatimes.com/realtimenews/20201014003881-260405?ctrack=mo_main_rtime_p08\n",
      "\n",
      "大安濱海豪華露營區爆紅 獲環境教育設施場所認證\n",
      "網址: https://www.chinatimes.com/realtimenews/20201014004034-260421?ctrack=mo_main_rtime_p09\n",
      "\n",
      "若美百分百當台灣靠山 羅致政：我方也會不冒進、挑釁\n",
      "網址: https://www.chinatimes.com/realtimenews/20201014004000-260407?ctrack=mo_main_rtime_p10\n",
      "\n",
      "信義房屋獲天下企業公民獎大型企業前三強 社會參與分...\n",
      "網址: https://www.chinatimes.com/realtimenews/20200904004695-260410?chdtv\n",
      "\n",
      "人才培育兼重專業與品德 信義房屋屢獲國內外CSR獎肯定\n",
      "網址: https://www.chinatimes.com/realtimenews/20201003000013-260410\n",
      "\n",
      "信義房屋「信義徵幸福」短片網路票選 人氣最高可得1萬...\n",
      "網址: https://www.chinatimes.com/realtimenews/20200806003809-260410?chdtv\n",
      "\n",
      "響應環保、支持小農 信義房屋普渡送平安米為社區祈福\n",
      "網址: https://www.chinatimes.com/realtimenews/20200908001699-260410\n",
      "\n",
      "旺House》 房市真的回溫了！內政部鐵證曝光\n",
      "網址: https://www.chinatimes.com/realtimenews/20200825005901-260410\n",
      "\n",
      "旺House》 電商衝擊！投資億元店面下場超慘\n",
      "網址: https://www.chinatimes.com/realtimenews/20200825005000-260410\n",
      "\n",
      "旺House》【崴爺愛看房】捷運公園宅潛力股！移居、宜...\n",
      "網址: https://www.chinatimes.com/realtimenews/20200825000013-260410\n",
      "\n",
      "旺House》必選「合雄5號花園」，超值入主桃園司法特區\n",
      "網址: https://www.chinatimes.com/realtimenews/20200825001596-260410\n",
      "\n"
     ]
    }
   ],
   "source": [
    "import requests\n",
    "from bs4 import BeautifulSoup\n",
    "\n",
    "url = 'https://www.chinatimes.com/'\n",
    "r = requests.get(url)\n",
    "\n",
    "if r.status_code == requests.codes.ok:\n",
    "  \n",
    "  soup = BeautifulSoup(r.text, 'html.parser')\n",
    "  \n",
    "  titles = soup.find_all('h4', class_='title')\n",
    "  for title in titles:\n",
    "        print(title.select_one(\"a\").text)\n",
    "        print('網址: '+ title.select_one(\"a\").get(\"href\")+'\\n')"
   ]
  },
  {
   "cell_type": "code",
   "execution_count": 6,
   "metadata": {},
   "outputs": [
    {
     "name": "stdout",
     "output_type": "stream",
     "text": [
      "<title>中時新聞網</title>\n"
     ]
    }
   ],
   "source": [
    "title_tag=soup.title\n",
    "print(title_tag)"
   ]
  },
  {
   "cell_type": "code",
   "execution_count": null,
   "metadata": {},
   "outputs": [],
   "source": []
  }
 ],
 "metadata": {
  "kernelspec": {
   "display_name": "Python 3",
   "language": "python",
   "name": "python3"
  },
  "language_info": {
   "codemirror_mode": {
    "name": "ipython",
    "version": 3
   },
   "file_extension": ".py",
   "mimetype": "text/x-python",
   "name": "python",
   "nbconvert_exporter": "python",
   "pygments_lexer": "ipython3",
   "version": "3.8.5"
  }
 },
 "nbformat": 4,
 "nbformat_minor": 4
}
